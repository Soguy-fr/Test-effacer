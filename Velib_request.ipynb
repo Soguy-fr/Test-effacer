{
  "nbformat": 4,
  "nbformat_minor": 0,
  "metadata": {
    "colab": {
      "provenance": [],
      "include_colab_link": true
    },
    "kernelspec": {
      "name": "python3",
      "display_name": "Python 3"
    },
    "language_info": {
      "name": "python"
    }
  },
  "cells": [
    {
      "cell_type": "markdown",
      "metadata": {
        "id": "view-in-github",
        "colab_type": "text"
      },
      "source": [
        "<a href=\"https://colab.research.google.com/github/Soguy-fr/Test-effacer/blob/main/Velib_request.ipynb\" target=\"_parent\"><img src=\"https://colab.research.google.com/assets/colab-badge.svg\" alt=\"Open In Colab\"/></a>"
      ]
    },
    {
      "cell_type": "markdown",
      "source": [
        "#Initial setup"
      ],
      "metadata": {
        "id": "3uoO5ROR5QHv"
      }
    },
    {
      "cell_type": "code",
      "execution_count": null,
      "metadata": {
        "id": "3-rYaUct4ZwF"
      },
      "outputs": [],
      "source": [
        "import pandas as pd\n",
        "import requests\n",
        "from geopy.distance import geodesic\n",
        "\n",
        "\n",
        "# URL JSON files\n",
        "url_station_status = \"https://velib-metropole-opendata.smoove.pro/opendata/Velib_Metropole/station_status.json\"\n",
        "url_station_information  =\"https://velib-metropole-opendata.smoove.pro/opendata/Velib_Metropole/station_information.json\""
      ]
    },
    {
      "cell_type": "markdown",
      "source": [
        "#Get station_status data into Panda DataFrame\n",
        "To find out how many bikes and terminals are available at each station :\n",
        "* **station_id**: unique station identification number. This number identifies the station within the Vélib' Métropole service.\n",
        "* **is_installed**: binary variable indicating whether the station is. The station has already been deployed (1) or is still being deployed (0). \n",
        "* **is_renting**: binary variable indicating whether the station can rent bicycles (is_renting=1 if the station status is Operative).\n",
        "* **is_returning**: binary variable indicating whether the station can receive bikes (is_renting=1 if the station status is Operative).\n",
        "* **last_reported**: date of last update \n",
        "* **numBikesAvailable**: number of bikes available\n",
        "* **numDocksAvailable**: number of docking stations available\n",
        "* **num_bikes_available**: number of bikes available\n",
        "* **num_bikes_available_types**: number of bikes available, distinguishing between mechanical and electric Vélib'.\n",
        "---\n",
        "\n",
        "\n",
        "\n",
        "\n"
      ],
      "metadata": {
        "id": "mtPpyx-F5Uwg"
      }
    },
    {
      "cell_type": "code",
      "source": [
        "# Get station_status\n",
        "response = requests.get(url_station_status)\n",
        "data = response.json()\n",
        "\n",
        "# Create Dataframe from Json\n",
        "station_status = pd.DataFrame(data[\"data\"][\"stations\"])\n",
        "\n",
        "station_status"
      ],
      "metadata": {
        "id": "2wqWFAC25Any",
        "colab": {
          "base_uri": "https://localhost:8080/",
          "height": 424
        },
        "outputId": "948ba75a-f0dc-4b6f-abc8-e89fb53bd5db"
      },
      "execution_count": null,
      "outputs": [
        {
          "output_type": "execute_result",
          "data": {
            "text/plain": [
              "     stationCode  station_id  num_bikes_available  numBikesAvailable  \\\n",
              "0          16107   213688169                    3                  3   \n",
              "1          31104   653222953                    6                  6   \n",
              "2          13007    66491398                    1                  1   \n",
              "3           9020       36255                    1                  1   \n",
              "4          12109    37815204                    4                  4   \n",
              "...          ...         ...                  ...                ...   \n",
              "1459       18023    54000604                    2                  2   \n",
              "1460       18026    43247738                    0                  0   \n",
              "1461       18024   102311820                    1                  1   \n",
              "1462       42004   368766689                   33                 33   \n",
              "1463        8004   315022587                   79                 79   \n",
              "\n",
              "                num_bikes_available_types  num_docks_available  \\\n",
              "0       [{'mechanical': 1}, {'ebike': 2}]                   32   \n",
              "1       [{'mechanical': 4}, {'ebike': 2}]                   19   \n",
              "2       [{'mechanical': 1}, {'ebike': 0}]                   47   \n",
              "3       [{'mechanical': 0}, {'ebike': 1}]                   19   \n",
              "4       [{'mechanical': 4}, {'ebike': 0}]                   25   \n",
              "...                                   ...                  ...   \n",
              "1459    [{'mechanical': 1}, {'ebike': 1}]                   32   \n",
              "1460    [{'mechanical': 0}, {'ebike': 0}]                   31   \n",
              "1461    [{'mechanical': 0}, {'ebike': 1}]                   34   \n",
              "1462   [{'mechanical': 29}, {'ebike': 4}]                    3   \n",
              "1463  [{'mechanical': 46}, {'ebike': 33}]                    1   \n",
              "\n",
              "      numDocksAvailable  is_installed  is_returning  is_renting  last_reported  \n",
              "0                    32             1             1           1     1686047322  \n",
              "1                    19             1             1           1     1686047424  \n",
              "2                    47             1             0           0     1686047485  \n",
              "3                    19             1             1           1     1686047167  \n",
              "4                    25             1             1           1     1686047226  \n",
              "...                 ...           ...           ...         ...            ...  \n",
              "1459                 32             1             1           1     1686047391  \n",
              "1460                 31             1             1           1     1686047394  \n",
              "1461                 34             1             1           1     1686047275  \n",
              "1462                  3             1             1           1     1686047550  \n",
              "1463                  1             1             1           1     1686047557  \n",
              "\n",
              "[1464 rows x 11 columns]"
            ],
            "text/html": [
              "\n",
              "  <div id=\"df-073a6627-4293-47b4-8b1c-05ca93b886c5\">\n",
              "    <div class=\"colab-df-container\">\n",
              "      <div>\n",
              "<style scoped>\n",
              "    .dataframe tbody tr th:only-of-type {\n",
              "        vertical-align: middle;\n",
              "    }\n",
              "\n",
              "    .dataframe tbody tr th {\n",
              "        vertical-align: top;\n",
              "    }\n",
              "\n",
              "    .dataframe thead th {\n",
              "        text-align: right;\n",
              "    }\n",
              "</style>\n",
              "<table border=\"1\" class=\"dataframe\">\n",
              "  <thead>\n",
              "    <tr style=\"text-align: right;\">\n",
              "      <th></th>\n",
              "      <th>stationCode</th>\n",
              "      <th>station_id</th>\n",
              "      <th>num_bikes_available</th>\n",
              "      <th>numBikesAvailable</th>\n",
              "      <th>num_bikes_available_types</th>\n",
              "      <th>num_docks_available</th>\n",
              "      <th>numDocksAvailable</th>\n",
              "      <th>is_installed</th>\n",
              "      <th>is_returning</th>\n",
              "      <th>is_renting</th>\n",
              "      <th>last_reported</th>\n",
              "    </tr>\n",
              "  </thead>\n",
              "  <tbody>\n",
              "    <tr>\n",
              "      <th>0</th>\n",
              "      <td>16107</td>\n",
              "      <td>213688169</td>\n",
              "      <td>3</td>\n",
              "      <td>3</td>\n",
              "      <td>[{'mechanical': 1}, {'ebike': 2}]</td>\n",
              "      <td>32</td>\n",
              "      <td>32</td>\n",
              "      <td>1</td>\n",
              "      <td>1</td>\n",
              "      <td>1</td>\n",
              "      <td>1686047322</td>\n",
              "    </tr>\n",
              "    <tr>\n",
              "      <th>1</th>\n",
              "      <td>31104</td>\n",
              "      <td>653222953</td>\n",
              "      <td>6</td>\n",
              "      <td>6</td>\n",
              "      <td>[{'mechanical': 4}, {'ebike': 2}]</td>\n",
              "      <td>19</td>\n",
              "      <td>19</td>\n",
              "      <td>1</td>\n",
              "      <td>1</td>\n",
              "      <td>1</td>\n",
              "      <td>1686047424</td>\n",
              "    </tr>\n",
              "    <tr>\n",
              "      <th>2</th>\n",
              "      <td>13007</td>\n",
              "      <td>66491398</td>\n",
              "      <td>1</td>\n",
              "      <td>1</td>\n",
              "      <td>[{'mechanical': 1}, {'ebike': 0}]</td>\n",
              "      <td>47</td>\n",
              "      <td>47</td>\n",
              "      <td>1</td>\n",
              "      <td>0</td>\n",
              "      <td>0</td>\n",
              "      <td>1686047485</td>\n",
              "    </tr>\n",
              "    <tr>\n",
              "      <th>3</th>\n",
              "      <td>9020</td>\n",
              "      <td>36255</td>\n",
              "      <td>1</td>\n",
              "      <td>1</td>\n",
              "      <td>[{'mechanical': 0}, {'ebike': 1}]</td>\n",
              "      <td>19</td>\n",
              "      <td>19</td>\n",
              "      <td>1</td>\n",
              "      <td>1</td>\n",
              "      <td>1</td>\n",
              "      <td>1686047167</td>\n",
              "    </tr>\n",
              "    <tr>\n",
              "      <th>4</th>\n",
              "      <td>12109</td>\n",
              "      <td>37815204</td>\n",
              "      <td>4</td>\n",
              "      <td>4</td>\n",
              "      <td>[{'mechanical': 4}, {'ebike': 0}]</td>\n",
              "      <td>25</td>\n",
              "      <td>25</td>\n",
              "      <td>1</td>\n",
              "      <td>1</td>\n",
              "      <td>1</td>\n",
              "      <td>1686047226</td>\n",
              "    </tr>\n",
              "    <tr>\n",
              "      <th>...</th>\n",
              "      <td>...</td>\n",
              "      <td>...</td>\n",
              "      <td>...</td>\n",
              "      <td>...</td>\n",
              "      <td>...</td>\n",
              "      <td>...</td>\n",
              "      <td>...</td>\n",
              "      <td>...</td>\n",
              "      <td>...</td>\n",
              "      <td>...</td>\n",
              "      <td>...</td>\n",
              "    </tr>\n",
              "    <tr>\n",
              "      <th>1459</th>\n",
              "      <td>18023</td>\n",
              "      <td>54000604</td>\n",
              "      <td>2</td>\n",
              "      <td>2</td>\n",
              "      <td>[{'mechanical': 1}, {'ebike': 1}]</td>\n",
              "      <td>32</td>\n",
              "      <td>32</td>\n",
              "      <td>1</td>\n",
              "      <td>1</td>\n",
              "      <td>1</td>\n",
              "      <td>1686047391</td>\n",
              "    </tr>\n",
              "    <tr>\n",
              "      <th>1460</th>\n",
              "      <td>18026</td>\n",
              "      <td>43247738</td>\n",
              "      <td>0</td>\n",
              "      <td>0</td>\n",
              "      <td>[{'mechanical': 0}, {'ebike': 0}]</td>\n",
              "      <td>31</td>\n",
              "      <td>31</td>\n",
              "      <td>1</td>\n",
              "      <td>1</td>\n",
              "      <td>1</td>\n",
              "      <td>1686047394</td>\n",
              "    </tr>\n",
              "    <tr>\n",
              "      <th>1461</th>\n",
              "      <td>18024</td>\n",
              "      <td>102311820</td>\n",
              "      <td>1</td>\n",
              "      <td>1</td>\n",
              "      <td>[{'mechanical': 0}, {'ebike': 1}]</td>\n",
              "      <td>34</td>\n",
              "      <td>34</td>\n",
              "      <td>1</td>\n",
              "      <td>1</td>\n",
              "      <td>1</td>\n",
              "      <td>1686047275</td>\n",
              "    </tr>\n",
              "    <tr>\n",
              "      <th>1462</th>\n",
              "      <td>42004</td>\n",
              "      <td>368766689</td>\n",
              "      <td>33</td>\n",
              "      <td>33</td>\n",
              "      <td>[{'mechanical': 29}, {'ebike': 4}]</td>\n",
              "      <td>3</td>\n",
              "      <td>3</td>\n",
              "      <td>1</td>\n",
              "      <td>1</td>\n",
              "      <td>1</td>\n",
              "      <td>1686047550</td>\n",
              "    </tr>\n",
              "    <tr>\n",
              "      <th>1463</th>\n",
              "      <td>8004</td>\n",
              "      <td>315022587</td>\n",
              "      <td>79</td>\n",
              "      <td>79</td>\n",
              "      <td>[{'mechanical': 46}, {'ebike': 33}]</td>\n",
              "      <td>1</td>\n",
              "      <td>1</td>\n",
              "      <td>1</td>\n",
              "      <td>1</td>\n",
              "      <td>1</td>\n",
              "      <td>1686047557</td>\n",
              "    </tr>\n",
              "  </tbody>\n",
              "</table>\n",
              "<p>1464 rows × 11 columns</p>\n",
              "</div>\n",
              "      <button class=\"colab-df-convert\" onclick=\"convertToInteractive('df-073a6627-4293-47b4-8b1c-05ca93b886c5')\"\n",
              "              title=\"Convert this dataframe to an interactive table.\"\n",
              "              style=\"display:none;\">\n",
              "        \n",
              "  <svg xmlns=\"http://www.w3.org/2000/svg\" height=\"24px\"viewBox=\"0 0 24 24\"\n",
              "       width=\"24px\">\n",
              "    <path d=\"M0 0h24v24H0V0z\" fill=\"none\"/>\n",
              "    <path d=\"M18.56 5.44l.94 2.06.94-2.06 2.06-.94-2.06-.94-.94-2.06-.94 2.06-2.06.94zm-11 1L8.5 8.5l.94-2.06 2.06-.94-2.06-.94L8.5 2.5l-.94 2.06-2.06.94zm10 10l.94 2.06.94-2.06 2.06-.94-2.06-.94-.94-2.06-.94 2.06-2.06.94z\"/><path d=\"M17.41 7.96l-1.37-1.37c-.4-.4-.92-.59-1.43-.59-.52 0-1.04.2-1.43.59L10.3 9.45l-7.72 7.72c-.78.78-.78 2.05 0 2.83L4 21.41c.39.39.9.59 1.41.59.51 0 1.02-.2 1.41-.59l7.78-7.78 2.81-2.81c.8-.78.8-2.07 0-2.86zM5.41 20L4 18.59l7.72-7.72 1.47 1.35L5.41 20z\"/>\n",
              "  </svg>\n",
              "      </button>\n",
              "      \n",
              "  <style>\n",
              "    .colab-df-container {\n",
              "      display:flex;\n",
              "      flex-wrap:wrap;\n",
              "      gap: 12px;\n",
              "    }\n",
              "\n",
              "    .colab-df-convert {\n",
              "      background-color: #E8F0FE;\n",
              "      border: none;\n",
              "      border-radius: 50%;\n",
              "      cursor: pointer;\n",
              "      display: none;\n",
              "      fill: #1967D2;\n",
              "      height: 32px;\n",
              "      padding: 0 0 0 0;\n",
              "      width: 32px;\n",
              "    }\n",
              "\n",
              "    .colab-df-convert:hover {\n",
              "      background-color: #E2EBFA;\n",
              "      box-shadow: 0px 1px 2px rgba(60, 64, 67, 0.3), 0px 1px 3px 1px rgba(60, 64, 67, 0.15);\n",
              "      fill: #174EA6;\n",
              "    }\n",
              "\n",
              "    [theme=dark] .colab-df-convert {\n",
              "      background-color: #3B4455;\n",
              "      fill: #D2E3FC;\n",
              "    }\n",
              "\n",
              "    [theme=dark] .colab-df-convert:hover {\n",
              "      background-color: #434B5C;\n",
              "      box-shadow: 0px 1px 3px 1px rgba(0, 0, 0, 0.15);\n",
              "      filter: drop-shadow(0px 1px 2px rgba(0, 0, 0, 0.3));\n",
              "      fill: #FFFFFF;\n",
              "    }\n",
              "  </style>\n",
              "\n",
              "      <script>\n",
              "        const buttonEl =\n",
              "          document.querySelector('#df-073a6627-4293-47b4-8b1c-05ca93b886c5 button.colab-df-convert');\n",
              "        buttonEl.style.display =\n",
              "          google.colab.kernel.accessAllowed ? 'block' : 'none';\n",
              "\n",
              "        async function convertToInteractive(key) {\n",
              "          const element = document.querySelector('#df-073a6627-4293-47b4-8b1c-05ca93b886c5');\n",
              "          const dataTable =\n",
              "            await google.colab.kernel.invokeFunction('convertToInteractive',\n",
              "                                                     [key], {});\n",
              "          if (!dataTable) return;\n",
              "\n",
              "          const docLinkHtml = 'Like what you see? Visit the ' +\n",
              "            '<a target=\"_blank\" href=https://colab.research.google.com/notebooks/data_table.ipynb>data table notebook</a>'\n",
              "            + ' to learn more about interactive tables.';\n",
              "          element.innerHTML = '';\n",
              "          dataTable['output_type'] = 'display_data';\n",
              "          await google.colab.output.renderOutput(dataTable, element);\n",
              "          const docLink = document.createElement('div');\n",
              "          docLink.innerHTML = docLinkHtml;\n",
              "          element.appendChild(docLink);\n",
              "        }\n",
              "      </script>\n",
              "    </div>\n",
              "  </div>\n",
              "  "
            ]
          },
          "metadata": {},
          "execution_count": 5
        }
      ]
    },
    {
      "cell_type": "markdown",
      "source": [
        "# Get station information\n",
        "\n",
        "* **capacity**: number of terminals in the station\n",
        "* **lat**: station latitude (in WGS84 format)\n",
        "* **lon**: station longitude (in WGS84 format)\n",
        "* **name**: station name\n",
        "* **station_id**: unique identifier associated with the station. This number identifies the station within the Vélib' Métropole service."
      ],
      "metadata": {
        "id": "CogbbOXP8_go"
      }
    },
    {
      "cell_type": "code",
      "source": [
        "# Get url_station_information\n",
        "response = requests.get(url_station_information)\n",
        "data = response.json()\n",
        "\n",
        "# Create Dataframe from Json\n",
        "station_information = pd.DataFrame(data[\"data\"][\"stations\"])\n"
      ],
      "metadata": {
        "id": "fu7ofwg08yUs"
      },
      "execution_count": null,
      "outputs": []
    },
    {
      "cell_type": "markdown",
      "source": [
        "#Some tests on the data"
      ],
      "metadata": {
        "id": "MG6Lz6BC5XrP"
      }
    },
    {
      "cell_type": "code",
      "source": [
        "#print(df.describe())\n",
        "#print(station_status.head())\n",
        "#print(station_information.head())\n",
        "#column_names = station_status.columns\n",
        "#print(column_names)\n",
        "\n",
        "\n",
        "# Your GPS coordinates\n",
        "your_latitude = 48.8616064374412\n",
        "your_longitude = 2.3337732420557638\n",
        "\n",
        "# Coordinates of the first station in the table\n",
        "station_latitude = station_information['lat'][0]\n",
        "station_longitude = station_information['lon'][0]\n",
        "\n",
        "# Calcul de la distance entre les deux points\n",
        "distance = geodesic((your_latitude, your_longitude), (station_latitude, station_longitude)).kilometers\n",
        "\n",
        "print(\"Distance between your position and the first station of the list : {:.2f} kilometers\".format(distance))\n"
      ],
      "metadata": {
        "colab": {
          "base_uri": "https://localhost:8080/"
        },
        "id": "QmYSIQEF5Oo-",
        "outputId": "938f00e5-1a36-4906-a7fa-a85ddbcb28c8"
      },
      "execution_count": null,
      "outputs": [
        {
          "output_type": "stream",
          "name": "stdout",
          "text": [
            "Distance between your position and the first station : 4.29 kilomètres\n"
          ]
        }
      ]
    },
    {
      "cell_type": "markdown",
      "source": [
        "#Calculate the GSP coordinate of the nearest bike station from your position and from the destination"
      ],
      "metadata": {
        "id": "VC5ZPZfoV9j4"
      }
    },
    {
      "cell_type": "code",
      "source": [
        "# Function for calculating the distance between two points\n",
        "def calculate_distance(lat1, lon1, lat2, lon2):\n",
        "    return geodesic((lat1, lon1), (lat2, lon2)).kilometers\n",
        "\n",
        "# Your GPS coordinates\n",
        "current_latitude = 48.8616064374412\n",
        "current_longitude = 2.3337732420557638\n",
        "\n",
        "# Destination GPS coordinates \n",
        "destination_latitude = 48.845003\n",
        "destination_longitude = 2.328524\n",
        "\n",
        "\n",
        "# Create a column with the distance between the station and your GPS coordinates\n",
        "station_information['distance_from_current'] = station_information.apply(lambda row: calculate_distance(current_latitude, current_longitude, row['lat'], row['lon']), axis=1)\n",
        "\n",
        "# Create a column with the distance between the station and the GPS coordinates of your destination\n",
        "station_information['distance_from_destination'] = station_information.apply(lambda row: calculate_distance(destination_latitude, destination_longitude, row['lat'], row['lon']), axis=1)\n",
        "\n",
        "# Nearest station from your position\n",
        "closest_station_from_current = station_information.loc[station_information['distance_from_current'].idxmin()]\n",
        "\n",
        "# Nearest station from your destination\n",
        "closest_station_from_destination = station_information.loc[station_information['distance_from_destination'].idxmin()]\n",
        "\n",
        "# Display information about the nearest station from your current position\n",
        "print(\"The nearest station of your current position is:\")\n",
        "print(\"Name:\", closest_station_from_current['name'])\n",
        "print(\"Distance:\", closest_station_from_current['distance_from_current'], \"kilometres\")\n",
        "\n",
        "# Display information about the nearest station from your destination\n",
        "print(\"The nearest station from your destination is:\")\n",
        "print(\"Name:\", closest_station_from_destination['name'])\n",
        "print(\"Distance:\", closest_station_from_destination['distance_from_destination'], \"kilometres\")"
      ],
      "metadata": {
        "id": "qRV14w6YCJXK"
      },
      "execution_count": null,
      "outputs": []
    },
    {
      "cell_type": "markdown",
      "source": [
        "#Is there available bike at the station"
      ],
      "metadata": {
        "id": "gQlIFFybZD-Q"
      }
    },
    {
      "cell_type": "code",
      "source": [
        "# Find the station ID of the closest station from current position\n",
        "closest_station_id = closest_station_from_current['station_id']\n",
        "\n",
        "# Get the row in station_status corresponding to the closest station\n",
        "closest_station_status = station_status[station_status['station_id'] == closest_station_id]\n",
        "\n",
        "# Get the number of available bikes for the closest station\n",
        "num_bikes_available = closest_station_status['num_bikes_available'].values[0]\n",
        "\n",
        "print(\"Number of available bikes at the closest station:\", num_bikes_available)\n"
      ],
      "metadata": {
        "colab": {
          "base_uri": "https://localhost:8080/"
        },
        "id": "jalNrxVKZKto",
        "outputId": "cecd93c3-8098-4c07-84bc-5618d2dcf52a"
      },
      "execution_count": null,
      "outputs": [
        {
          "output_type": "stream",
          "name": "stdout",
          "text": [
            "Number of available bikes at the closest station: 19\n"
          ]
        }
      ]
    },
    {
      "cell_type": "markdown",
      "source": [
        "#Function to find the nearest stations\n",
        "Now that we are able to find a station and the number of available bike, let's create a function which give us the nearest station of GPS point, with at least 1 available bike"
      ],
      "metadata": {
        "id": "-7Q34z9za9Fe"
      }
    },
    {
      "cell_type": "code",
      "source": [
        "def find_nearest_station(latitude, longitude):\n",
        "    # Create a column with the distance between the station and the input GPS coordinates\n",
        "    station_information['distance_from_input'] = station_information.apply(\n",
        "        lambda row: calculate_distance(latitude, longitude, row['lat'], row['lon']),\n",
        "        axis=1\n",
        "    )\n",
        "    \n",
        "    # Find the nearest station from the input GPS coordinates\n",
        "    nearest_station = station_information.loc[station_information['distance_from_input'].idxmin()]\n",
        "    \n",
        "    # Get the station ID of the nearest station\n",
        "    nearest_station_id = nearest_station['station_id']\n",
        "    \n",
        "    # Get the row in station_status corresponding to the nearest station\n",
        "    nearest_station_status = station_status[station_status['station_id'] == nearest_station_id]\n",
        "    \n",
        "    # Get the number of available bikes for the nearest station\n",
        "    num_bikes_available = nearest_station_status['num_bikes_available'].values[0]\n",
        "    \n",
        "    # Return the nearest station, its name, and the number of available bikes\n",
        "    return nearest_station, nearest_station['name'], num_bikes_available\n",
        "\n",
        "# Example usage:\n",
        "input_latitude = 48.8616064374412\n",
        "input_longitude = 2.3337732420557638\n",
        "\n",
        "nearest_station, station_name, num_bikes_available = find_nearest_station(input_latitude, input_longitude)\n",
        "\n",
        "print(\"Nearest Station:\", station_name)\n",
        "print(\"Number of available bikes:\", num_bikes_available)\n"
      ],
      "metadata": {
        "colab": {
          "base_uri": "https://localhost:8080/"
        },
        "id": "vLEKYYhAbDue",
        "outputId": "1d74362a-94d5-460c-ab21-2e73ca4aa539"
      },
      "execution_count": null,
      "outputs": [
        {
          "output_type": "stream",
          "name": "stdout",
          "text": [
            "Nearest Station: Saint-Honoré - Musée du Louvre\n",
            "Number of available bikes: 19\n"
          ]
        }
      ]
    },
    {
      "cell_type": "code",
      "source": [],
      "metadata": {
        "id": "-b2bwsOug2I-"
      },
      "execution_count": null,
      "outputs": []
    }
  ]
}