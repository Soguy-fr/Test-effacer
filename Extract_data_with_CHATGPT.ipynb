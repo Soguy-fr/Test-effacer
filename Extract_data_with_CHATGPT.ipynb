{
  "nbformat": 4,
  "nbformat_minor": 0,
  "metadata": {
    "colab": {
      "provenance": [],
      "include_colab_link": true
    },
    "kernelspec": {
      "name": "python3",
      "display_name": "Python 3"
    },
    "language_info": {
      "name": "python"
    }
  },
  "cells": [
    {
      "cell_type": "markdown",
      "metadata": {
        "id": "view-in-github",
        "colab_type": "text"
      },
      "source": [
        "<a href=\"https://colab.research.google.com/github/Soguy-fr/Test-effacer/blob/main/Extract_data_with_CHATGPT.ipynb\" target=\"_parent\"><img src=\"https://colab.research.google.com/assets/colab-badge.svg\" alt=\"Open In Colab\"/></a>"
      ]
    },
    {
      "cell_type": "markdown",
      "source": [
        "#Extract adress from a text with ChatGPT"
      ],
      "metadata": {
        "id": "VqyMI53SI7lO"
      }
    },
    {
      "cell_type": "markdown",
      "source": [
        "Initial Setup"
      ],
      "metadata": {
        "id": "oiACOykiJLBB"
      }
    },
    {
      "cell_type": "code",
      "execution_count": null,
      "metadata": {
        "id": "plqznVjXtxlW"
      },
      "outputs": [],
      "source": [
        "!pip install openai\n",
        "import openai\n",
        "import json\n"
      ]
    },
    {
      "cell_type": "code",
      "source": [
        "# Configuration of OpenAI API KEY\n",
        "# Create a file config.py, in the same folder, with this code API_KEY = 'XXXXXXXXXXXXXXXXXXXXXXXXXXXXXX'\n",
        "from config import API_KEY\n",
        "\n",
        "# OpenAI API Configuration\n",
        "openai.api_key = API_KEY\n"
      ],
      "metadata": {
        "id": "ZoTEN_8WIBIM"
      },
      "execution_count": 15,
      "outputs": []
    },
    {
      "cell_type": "code",
      "source": [
        "# Fonction pour effectuer une requête à ChatGPT\n",
        "def chat_with_gpt(prompt):\n",
        "    response = openai.Completion.create(\n",
        "        engine='text-davinci-003',  # Choisissez le modèle de votre choix, par exemple : 'text-davinci-003'\n",
        "        prompt=prompt,\n",
        "        max_tokens=100,\n",
        "        n=1,\n",
        "        stop=None,\n",
        "        temperature=0.7,\n",
        "        timeout=30,\n",
        "    )\n",
        "    return response.choices[0].text.strip()\n",
        "\n"
      ],
      "metadata": {
        "id": "-rTHS1_lvyXb"
      },
      "execution_count": null,
      "outputs": []
    },
    {
      "cell_type": "code",
      "source": [
        "# Create the Prompt for ChatGPT\n",
        "prompt = \"Retrieve the address from the following text and present it in JSON format\"\n",
        "\n",
        "json_data = '''\n",
        "{\n",
        "  \"Town\": \"\",\n",
        "  \"Postal code\": \",\n",
        "  \"Street_name\": \"\",\n",
        "  \"Number\": \"\"\n",
        "}\n",
        "'''\n",
        "\n",
        "# Add the JSON example to the prompt\n",
        "prompt = prompt + \" \" + json_data\n",
        "\n",
        "#Text with the adress\n",
        "#text_with_adress =\"I want to go back home to the south of France, to my town of Prendeignes, the place is Cantagrel to be exact. There's no avenue, just 3 streets. Mine is the street of freedom. And I'm at number 3\"\n",
        "text_with_adress =\"I want to go back to the south of Paris, close of avenue des champs Elysées, between number 6 and 10\"\n",
        "\n",
        "# Concatenate the prompt and the text to send to ChatGPT\n",
        "text_for_gpt = prompt + \" \" + text_with_adress\n"
      ],
      "metadata": {
        "id": "OCFoWwPDuDLq"
      },
      "execution_count": null,
      "outputs": []
    },
    {
      "cell_type": "code",
      "source": [
        "# Call to ChatGPT\n",
        "response_text = chat_with_gpt(text_for_gpt)\n",
        "print(response_text)\n"
      ],
      "metadata": {
        "id": "4REhkhi5Hijf",
        "outputId": "0c4f5904-1f92-4194-caca-17e8cc9d0d9f",
        "colab": {
          "base_uri": "https://localhost:8080/"
        }
      },
      "execution_count": null,
      "outputs": [
        {
          "output_type": "stream",
          "name": "stdout",
          "text": [
            "{\n",
            "  \"Town\": \"Paris\",\n",
            "  \"Postal code\": \"\",\n",
            "  \"Street_name\": \"Avenue des Champs Elysées\",\n",
            "  \"Number\": \"Between 6 and 10\"\n",
            "}\n"
          ]
        }
      ]
    },
    {
      "cell_type": "code",
      "source": [
        "# Création du dictionnaire JSON\n",
        "response_dict = {'response': response_text}\n",
        "\n",
        "# Enregistrement du dictionnaire dans un fichier JSON\n",
        "with open('response.json', 'w') as json_file:\n",
        "    json.dump(response_dict, json_file)\n",
        "\n",
        "print(\"The JSON file has been successfully generated.\")\n"
      ],
      "metadata": {
        "colab": {
          "base_uri": "https://localhost:8080/"
        },
        "id": "1fSZ15lRImo9",
        "outputId": "f97b2799-efc1-4419-96c6-0baf0ac0d26c"
      },
      "execution_count": null,
      "outputs": [
        {
          "output_type": "stream",
          "name": "stdout",
          "text": [
            "The JSON file has been successfully generated.\n"
          ]
        }
      ]
    },
    {
      "cell_type": "code",
      "source": [],
      "metadata": {
        "id": "80GepLhCuIio"
      },
      "execution_count": null,
      "outputs": []
    }
  ]
}